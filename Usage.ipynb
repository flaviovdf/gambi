{
 "cells": [
  {
   "cell_type": "code",
   "execution_count": 1,
   "metadata": {},
   "outputs": [
    {
     "ename": "NameError",
     "evalue": "name 'gambi' is not defined",
     "output_type": "error",
     "traceback": [
      "\u001b[0;31m---------------------------------------------------------------------------\u001b[0m",
      "\u001b[0;31mNameError\u001b[0m                                 Traceback (most recent call last)",
      "Cell \u001b[0;32mIn[1], line 9\u001b[0m\n\u001b[1;32m      7\u001b[0m random\u001b[38;5;241m.\u001b[39mseed(\u001b[38;5;241m30091985\u001b[39m)\n\u001b[1;32m      8\u001b[0m np\u001b[38;5;241m.\u001b[39mrandom\u001b[38;5;241m.\u001b[39mseed(\u001b[38;5;241m30091985\u001b[39m)\n\u001b[0;32m----> 9\u001b[0m \u001b[38;5;28mprint\u001b[39m \u001b[38;5;241m=\u001b[39m \u001b[43mgambi\u001b[49m\u001b[38;5;241m.\u001b[39mnew_print\n\u001b[1;32m     11\u001b[0m gb\u001b[38;5;241m.\u001b[39mfreeze_cell()\n",
      "\u001b[0;31mNameError\u001b[0m: name 'gambi' is not defined"
     ]
    }
   ],
   "source": [
    "# Não mude essas linhas!\n",
    "\n",
    "import gambi as gb\n",
    "import numpy as np\n",
    "import random\n",
    "\n",
    "random.seed(30091985)\n",
    "np.random.seed(30091985)\n",
    "print = gambi.new_print\n",
    "\n",
    "gb.freeze_cell()"
   ]
  },
  {
   "cell_type": "code",
   "execution_count": 18,
   "metadata": {},
   "outputs": [
    {
     "data": {
      "application/json": {
       "delete": true
      },
      "text/plain": [
       "[gambi]"
      ]
     },
     "execution_count": 18,
     "metadata": {},
     "output_type": "execute_result"
    }
   ],
   "source": [
    "teacher = gb.GambiTeacher()\n",
    "x = 2\n",
    "y = 3\n",
    "z = x + 1\n",
    "teacher.create_test_case(z, 'test-z')\n",
    "gb.delete_cell()"
   ]
  },
  {
   "cell_type": "code",
   "execution_count": 19,
   "metadata": {},
   "outputs": [
    {
     "data": {
      "application/json": {
       "delete": true
      },
      "text/plain": [
       "[gambi]"
      ]
     },
     "execution_count": 19,
     "metadata": {},
     "output_type": "execute_result"
    }
   ],
   "source": [
    "x = np.array([1.0, 2, 3])\n",
    "teacher.create_test_case(x, 'test-x')\n",
    "gb.delete_cell()"
   ]
  },
  {
   "cell_type": "code",
   "execution_count": 20,
   "metadata": {},
   "outputs": [
    {
     "data": {
      "application/json": {
       "delete": true
      },
      "text/plain": [
       "[gambi]"
      ]
     },
     "execution_count": 20,
     "metadata": {},
     "output_type": "execute_result"
    }
   ],
   "source": [
    "teacher.create_test_case(np.random.normal(size=(300, 300)))\n",
    "gb.delete_cell()"
   ]
  },
  {
   "cell_type": "code",
   "execution_count": 21,
   "metadata": {},
   "outputs": [
    {
     "data": {
      "application/json": {
       "delete": true
      },
      "text/plain": [
       "[gambi]"
      ]
     },
     "execution_count": 21,
     "metadata": {},
     "output_type": "execute_result"
    }
   ],
   "source": [
    "import pandas as pd\n",
    "df = pd.DataFrame(\n",
    "    {\n",
    "        'col1': [1, 2, 4],\n",
    "        'col2': [True, False, True],\n",
    "        'col3': [1.1, 1.2, 1.3],\n",
    "        'col4': ['a', 'flavio', 'b']\n",
    "    }\n",
    ")\n",
    "teacher.create_test_case(df, 'test_df')\n",
    "gb.delete_cell()"
   ]
  },
  {
   "cell_type": "code",
   "execution_count": 23,
   "metadata": {},
   "outputs": [
    {
     "data": {
      "application/json": {
       "delete": true
      },
      "text/plain": [
       "[gambi]"
      ]
     },
     "execution_count": 23,
     "metadata": {},
     "output_type": "execute_result"
    }
   ],
   "source": [
    "teacher.create_vpl('lab0.json', 'lab0.cases')\n",
    "gb.delete_cell()"
   ]
  },
  {
   "cell_type": "code",
   "execution_count": 7,
   "metadata": {},
   "outputs": [],
   "source": [
    "student = GambiStudent('lab0.json')"
   ]
  },
  {
   "cell_type": "code",
   "execution_count": 8,
   "metadata": {},
   "outputs": [
    {
     "data": {
      "text/plain": [
       "This activity has 4 questions.\n",
       "You have provided 0 answers.\n",
       "[‼️ ‼️ ‼️] Missing: ['test-z', 'test-x', '8a249w', 'test_df']\n"
      ]
     },
     "execution_count": 8,
     "metadata": {},
     "output_type": "execute_result"
    }
   ],
   "source": [
    "student"
   ]
  },
  {
   "cell_type": "code",
   "execution_count": 10,
   "metadata": {},
   "outputs": [
    {
     "name": "stdout",
     "output_type": "stream",
     "text": [
      "['test-z', 'test-x', '8a249w', 'test_df']\n",
      "['test-z', 'test-x', '8a249w', 'test_df']\n",
      "['test-z', 'test-x', '8a249w', 'test_df']\n"
     ]
    },
    {
     "data": {
      "text/plain": [
       "[🤙] Answer to test-z was stored\n",
       "\n",
       "[🤙] Answer to test-x was stored\n",
       "\n",
       "[‼️] Answer to test-z was overwritten!\n",
       "\n",
       "[‼️] Answer to test-x was overwritten!\n",
       "\n",
       "[🤙] Answer to test_df was stored\n",
       "\n",
       "This activity has 4 questions.\n",
       "You have provided 3 answers.\n",
       "[‼️ ‼️ ‼️] Missing: ['8a249w']\n"
      ]
     },
     "execution_count": 10,
     "metadata": {},
     "output_type": "execute_result"
    }
   ],
   "source": [
    "student.register_answer(2, 'test-z')\n",
    "student.register_answer(2, 'test-x')\n",
    "student.register_answer(2, 'test_df')"
   ]
  },
  {
   "cell_type": "code",
   "execution_count": 11,
   "metadata": {},
   "outputs": [
    {
     "name": "stdout",
     "output_type": "stream",
     "text": [
      "2\n",
      "2\n",
      "\n",
      "2\n"
     ]
    }
   ],
   "source": [
    "student.evaluate()"
   ]
  },
  {
   "cell_type": "code",
   "execution_count": null,
   "metadata": {},
   "outputs": [],
   "source": []
  }
 ],
 "metadata": {
  "kernelspec": {
   "display_name": "Python 3 (ipykernel)",
   "language": "python",
   "name": "python3"
  },
  "language_info": {
   "codemirror_mode": {
    "name": "ipython",
    "version": 3
   },
   "file_extension": ".py",
   "mimetype": "text/x-python",
   "name": "python",
   "nbconvert_exporter": "python",
   "pygments_lexer": "ipython3",
   "version": "3.11.8"
  }
 },
 "nbformat": 4,
 "nbformat_minor": 4
}
