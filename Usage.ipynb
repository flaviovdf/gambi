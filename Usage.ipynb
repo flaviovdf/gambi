{
 "cells": [
  {
   "cell_type": "code",
   "execution_count": 8,
   "metadata": {},
   "outputs": [],
   "source": [
    "# Não mude essas linhas!\n",
    "\n",
    "from gambi import GambiStudent\n",
    "from gambi import GambiTeacher\n",
    "\n",
    "import gambi\n",
    "import numpy as np\n",
    "import random\n",
    "\n",
    "np.random.seed(30091985)\n",
    "print = gambi.new_print"
   ]
  },
  {
   "cell_type": "code",
   "execution_count": 6,
   "metadata": {},
   "outputs": [
    {
     "data": {
      "text/plain": [
       "'3 oi\\n'"
      ]
     },
     "execution_count": 6,
     "metadata": {},
     "output_type": "execute_result"
    }
   ],
   "source": [
    "x = 3\n",
    "print(f'{x} oi')"
   ]
  },
  {
   "cell_type": "code",
   "execution_count": 8,
   "metadata": {},
   "outputs": [
    {
     "ename": "NameError",
     "evalue": "name 'line' is not defined",
     "output_type": "error",
     "traceback": [
      "\u001b[0;31m---------------------------------------------------------------------------\u001b[0m",
      "\u001b[0;31mNameError\u001b[0m                                 Traceback (most recent call last)",
      "Cell \u001b[0;32mIn[8], line 1\u001b[0m\n\u001b[0;32m----> 1\u001b[0m \u001b[43mline\u001b[49m\n",
      "\u001b[0;31mNameError\u001b[0m: name 'line' is not defined"
     ]
    }
   ],
   "source": [
    "line"
   ]
  },
  {
   "cell_type": "code",
   "execution_count": 2,
   "metadata": {},
   "outputs": [
    {
     "data": {
      "text/plain": [
       "Case = test-z\n",
       "Input =\n",
       "Output = 3\n"
      ]
     },
     "execution_count": 2,
     "metadata": {},
     "output_type": "execute_result"
    }
   ],
   "source": [
    "teacher = GambiTeacher()\n",
    "x = 2\n",
    "y = 3\n",
    "z = x + 1\n",
    "teacher.create_test_case(z, 'test-z')"
   ]
  },
  {
   "cell_type": "code",
   "execution_count": 3,
   "metadata": {},
   "outputs": [
    {
     "data": {
      "text/plain": [
       "Case = test-x\n",
       "Input =\n",
       "Output = [1.0, 2.0, 3.0]\n"
      ]
     },
     "execution_count": 3,
     "metadata": {},
     "output_type": "execute_result"
    }
   ],
   "source": [
    "import numpy as np\n",
    "x = np.array([1.0, 2, 3])\n",
    "teacher.create_test_case(x, 'test-x')"
   ]
  },
  {
   "cell_type": "code",
   "execution_count": 4,
   "metadata": {},
   "outputs": [
    {
     "data": {
      "text/plain": [
       "Case = SxO2mg\n",
       "Input =\n",
       "Output = [-0.5342104823529156,\n",
       " 0.33316597448507274,\n",
       " -0.40...\n"
      ]
     },
     "execution_count": 4,
     "metadata": {},
     "output_type": "execute_result"
    }
   ],
   "source": [
    "teacher.create_test_case(np.random.normal(size=(300, 300)))"
   ]
  },
  {
   "cell_type": "code",
   "execution_count": 5,
   "metadata": {},
   "outputs": [
    {
     "data": {
      "text/plain": [
       "Case = test_df\n",
       "Input =\n",
       "Output = ,col1,col2,col3,col4\n",
       "0,1,True,1.1,a\n",
       "1,2,False,1.2,...\n"
      ]
     },
     "execution_count": 5,
     "metadata": {},
     "output_type": "execute_result"
    }
   ],
   "source": [
    "import pandas as pd\n",
    "df = pd.DataFrame(\n",
    "    {\n",
    "        'col1': [1, 2, 4],\n",
    "        'col2': [True, False, True],\n",
    "        'col3': [1.1, 1.2, 1.3],\n",
    "        'col4': ['a', 'flavio', 'b']\n",
    "    }\n",
    ")\n",
    "teacher.create_test_case(df, 'test_df')"
   ]
  },
  {
   "cell_type": "code",
   "execution_count": 6,
   "metadata": {},
   "outputs": [
    {
     "data": {
      "text/plain": []
     },
     "execution_count": 6,
     "metadata": {},
     "output_type": "execute_result"
    }
   ],
   "source": [
    "teacher.create_vpl('lab0.json', 'lab0.cases')"
   ]
  },
  {
   "cell_type": "code",
   "execution_count": 7,
   "metadata": {},
   "outputs": [],
   "source": [
    "student = GambiStudent('lab0.json')"
   ]
  },
  {
   "cell_type": "code",
   "execution_count": 8,
   "metadata": {},
   "outputs": [
    {
     "data": {
      "text/plain": [
       "This activity has 4 questions.\n",
       "You have provided 0 answers.\n",
       "[‼️ ‼️ ‼️] Missing: ['test-z', 'test-x', 'SxO2mg', 'test_df']\n"
      ]
     },
     "execution_count": 8,
     "metadata": {},
     "output_type": "execute_result"
    }
   ],
   "source": [
    "student"
   ]
  },
  {
   "cell_type": "code",
   "execution_count": 10,
   "metadata": {},
   "outputs": [
    {
     "name": "stderr",
     "output_type": "stream",
     "text": [
      "/home/flaviovdf/workspace/gambi/gambi/__init__.py:137: UserWarning: [‼️] Answer to test-z was overwritten!\n",
      "  warnings.warn(msg)\n",
      "/home/flaviovdf/workspace/gambi/gambi/__init__.py:137: UserWarning: [🤙] Answer to text-x was stored\n",
      "  warnings.warn(msg)\n"
     ]
    },
    {
     "data": {
      "text/plain": [
       "This activity has 4 questions.\n",
       "You have provided 2 answers.\n",
       "[‼️ ‼️ ‼️] Missing: ['test-x', 'SxO2mg', 'test_df']\n"
      ]
     },
     "execution_count": 10,
     "metadata": {},
     "output_type": "execute_result"
    }
   ],
   "source": [
    "(student.register_answer(2, 'test-z').\n",
    " register_answer(3, 'text-x')\n",
    ")"
   ]
  },
  {
   "cell_type": "code",
   "execution_count": 11,
   "metadata": {},
   "outputs": [
    {
     "name": "stdout",
     "output_type": "stream",
     "text": [
      "2\n",
      "3\n"
     ]
    }
   ],
   "source": [
    "student.evaluate()"
   ]
  },
  {
   "cell_type": "code",
   "execution_count": null,
   "metadata": {},
   "outputs": [],
   "source": []
  }
 ],
 "metadata": {
  "kernelspec": {
   "display_name": "gambi",
   "language": "python",
   "name": "python3"
  },
  "language_info": {
   "codemirror_mode": {
    "name": "ipython",
    "version": 3
   },
   "file_extension": ".py",
   "mimetype": "text/x-python",
   "name": "python",
   "nbconvert_exporter": "python",
   "pygments_lexer": "ipython3",
   "version": "3.11.8"
  }
 },
 "nbformat": 4,
 "nbformat_minor": 2
}
