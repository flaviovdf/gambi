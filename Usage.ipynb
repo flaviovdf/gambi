{
 "cells": [
  {
   "cell_type": "code",
   "execution_count": 1,
   "metadata": {},
   "outputs": [],
   "source": [
    "import gambi as gb"
   ]
  },
  {
   "cell_type": "code",
   "execution_count": 2,
   "metadata": {},
   "outputs": [
    {
     "data": {
      "application/json": {
       "metadata": {
        "deletable": false,
        "editable": false,
        "trusted": true
       }
      },
      "text/plain": [
       "[gambi]"
      ]
     },
     "execution_count": 2,
     "metadata": {},
     "output_type": "execute_result"
    }
   ],
   "source": [
    "# Não mude essas linhas!\n",
    "\n",
    "from gambi import GambiStudent\n",
    "from gambi import GambiTeacher\n",
    "\n",
    "import numpy as np\n",
    "import random\n",
    "\n",
    "np.random.seed(30091985)\n",
    "random.seed(30091985)\n",
    "print = gb.new_print\n",
    "\n",
    "gb.freeze_cell()"
   ]
  },
  {
   "cell_type": "code",
   "execution_count": 3,
   "metadata": {},
   "outputs": [
    {
     "data": {
      "text/plain": [
       "3 oi\n",
       "quer tc?"
      ]
     },
     "execution_count": 3,
     "metadata": {},
     "output_type": "execute_result"
    }
   ],
   "source": [
    "x = 3\n",
    "print(f'{x} oi\\nquer tc?')"
   ]
  },
  {
   "cell_type": "code",
   "execution_count": 4,
   "metadata": {},
   "outputs": [
    {
     "data": {
      "text/plain": [
       "[🤙] Created 1 new test case(s)\n",
       "[🤙] They are as follows\n",
       "[🤙] Test test-z expects <class 'int'> as response\n",
       "[🤙] Test summary:\n",
       "Case = test-z\n",
       "Input =\n",
       "Output = 3\n",
       "\n"
      ]
     },
     "execution_count": 4,
     "metadata": {},
     "output_type": "execute_result"
    }
   ],
   "source": [
    "teacher = GambiTeacher()\n",
    "x = 2\n",
    "y = 3\n",
    "z = x + 1\n",
    "teacher.create_test_case(z, 'test-z')"
   ]
  },
  {
   "cell_type": "code",
   "execution_count": 5,
   "metadata": {},
   "outputs": [
    {
     "data": {
      "text/plain": [
       "[🤙] Created 1 new test case(s)\n",
       "[🤙] They are as follows\n",
       "[🤙] Test test-x expects <class 'numpy.ndarray'> as response\n",
       "[🤙] Test summary:\n",
       "Case = test-x\n",
       "Input =\n",
       "Output = [1.0, 2.0, 3.0]\n",
       "\n"
      ]
     },
     "execution_count": 5,
     "metadata": {},
     "output_type": "execute_result"
    }
   ],
   "source": [
    "import numpy as np\n",
    "x = np.array([1.0, 2, 3])\n",
    "teacher.create_test_case(x, 'test-x')"
   ]
  },
  {
   "cell_type": "code",
   "execution_count": 6,
   "metadata": {},
   "outputs": [
    {
     "data": {
      "text/plain": [
       "[🤙] Created 1 new test case(s)\n",
       "[🤙] They are as follows\n",
       "[🤙] Test XudWcA expects <class 'numpy.ndarray'> as response\n",
       "[🤙] Test summary:\n",
       "Case = XudWcA\n",
       "Input =\n",
       "Output = [-0.7433934092439252,\n",
       " -1.0164829166258542,\n",
       " -0.27...\n",
       "\n"
      ]
     },
     "execution_count": 6,
     "metadata": {},
     "output_type": "execute_result"
    }
   ],
   "source": [
    "teacher.create_test_case(np.random.normal(size=(300, 300)))"
   ]
  },
  {
   "cell_type": "code",
   "execution_count": 7,
   "metadata": {},
   "outputs": [
    {
     "data": {
      "text/plain": [
       "[🤙] Created 1 new test case(s)\n",
       "[🤙] They are as follows\n",
       "[🤙] Test test_df expects <class 'pandas.core.frame.DataFrame'> as response\n",
       "[🤙] Test summary:\n",
       "Case = test_df\n",
       "Input =\n",
       "Output = ,col1,col2,col3,col4\n",
       "0,1,True,1.1,a\n",
       "1,2,False,1.2,...\n",
       "\n"
      ]
     },
     "execution_count": 7,
     "metadata": {},
     "output_type": "execute_result"
    }
   ],
   "source": [
    "import pandas as pd\n",
    "df = pd.DataFrame(\n",
    "    {\n",
    "        'col1': [1, 2, 4],\n",
    "        'col2': [True, False, True],\n",
    "        'col3': [1.1, 1.2, 1.3],\n",
    "        'col4': ['a', 'flavio', 'b']\n",
    "    }\n",
    ")\n",
    "teacher.create_test_case(df, 'test_df')"
   ]
  },
  {
   "cell_type": "code",
   "execution_count": 8,
   "metadata": {},
   "outputs": [
    {
     "data": {
      "text/plain": [
       "pandas.core.frame.DataFrame"
      ]
     },
     "execution_count": 8,
     "metadata": {},
     "output_type": "execute_result"
    }
   ],
   "source": [
    "type(df)"
   ]
  },
  {
   "cell_type": "code",
   "execution_count": 9,
   "metadata": {},
   "outputs": [
    {
     "data": {
      "text/plain": [
       "pandas.core.frame.DataFrame"
      ]
     },
     "execution_count": 9,
     "metadata": {},
     "output_type": "execute_result"
    }
   ],
   "source": [
    "from pydoc import locate\n",
    "locate('pandas.core.frame.DataFrame')"
   ]
  },
  {
   "cell_type": "code",
   "execution_count": 10,
   "metadata": {},
   "outputs": [
    {
     "data": {
      "text/plain": [
       "[🤙] There are 4 tests in this execise\n",
       "[🤙] They are as follows\n",
       "[🤙] Test test-z expects <class 'int'> as response\n",
       "[🤙] Test summary:\n",
       "Case = test-z\n",
       "Input =\n",
       "Output = 3\n",
       "\n",
       "[🤙] Test test-x expects <class 'numpy.ndarray'> as response\n",
       "[🤙] Test summary:\n",
       "Case = test-x\n",
       "Input =\n",
       "Output = [1.0, 2.0, 3.0]\n",
       "\n",
       "[🤙] Test XudWcA expects <class 'numpy.ndarray'> as response\n",
       "[🤙] Test summary:\n",
       "Case = XudWcA\n",
       "Input =\n",
       "Output = [-0.7433934092439252,\n",
       " -1.0164829166258542,\n",
       " -0.27...\n",
       "\n",
       "[🤙] Test test_df expects <class 'pandas.core.frame.DataFrame'> as response\n",
       "[🤙] Test summary:\n",
       "Case = test_df\n",
       "Input =\n",
       "Output = ,col1,col2,col3,col4\n",
       "0,1,True,1.1,a\n",
       "1,2,False,1.2,...\n",
       "\n"
      ]
     },
     "execution_count": 10,
     "metadata": {},
     "output_type": "execute_result"
    }
   ],
   "source": [
    "teacher"
   ]
  },
  {
   "cell_type": "code",
   "execution_count": 11,
   "metadata": {},
   "outputs": [
    {
     "data": {
      "text/plain": [
       "[🤙] There are 4 tests in this execise\n",
       "[🤙] They are as follows\n",
       "[🤙] Test test-z expects <class 'int'> as response\n",
       "[🤙] Test summary:\n",
       "Case = test-z\n",
       "Input =\n",
       "Output = 3\n",
       "\n",
       "[🤙] Test test-x expects <class 'numpy.ndarray'> as response\n",
       "[🤙] Test summary:\n",
       "Case = test-x\n",
       "Input =\n",
       "Output = [1.0, 2.0, 3.0]\n",
       "\n",
       "[🤙] Test XudWcA expects <class 'numpy.ndarray'> as response\n",
       "[🤙] Test summary:\n",
       "Case = XudWcA\n",
       "Input =\n",
       "Output = [-0.7433934092439252,\n",
       " -1.0164829166258542,\n",
       " -0.27...\n",
       "\n",
       "[🤙] Test test_df expects <class 'pandas.core.frame.DataFrame'> as response\n",
       "[🤙] Test summary:\n",
       "Case = test_df\n",
       "Input =\n",
       "Output = ,col1,col2,col3,col4\n",
       "0,1,True,1.1,a\n",
       "1,2,False,1.2,...\n",
       "\n"
      ]
     },
     "execution_count": 11,
     "metadata": {},
     "output_type": "execute_result"
    }
   ],
   "source": [
    "teacher.create_vpl('lab0.json', 'lab0.cases')"
   ]
  },
  {
   "cell_type": "code",
   "execution_count": 12,
   "metadata": {},
   "outputs": [],
   "source": [
    "student = GambiStudent('lab0.json')"
   ]
  },
  {
   "cell_type": "code",
   "execution_count": 13,
   "metadata": {},
   "outputs": [
    {
     "data": {
      "text/plain": [
       "This activity has 4 questions.\n",
       "You have provided 0 answers.\n",
       "[‼️ ‼️ ‼️] Missing: ['test-z', 'test-x', 'XudWcA', 'test_df']\n"
      ]
     },
     "execution_count": 13,
     "metadata": {},
     "output_type": "execute_result"
    }
   ],
   "source": [
    "student"
   ]
  },
  {
   "cell_type": "code",
   "execution_count": 14,
   "metadata": {},
   "outputs": [
    {
     "data": {
      "text/plain": [
       "[🤙] Answer to text-x was stored\n",
       "\n",
       "This activity has 4 questions.\n",
       "You have provided 2 answers.\n",
       "[‼️ ‼️ ‼️] Missing: ['test-x', 'XudWcA', 'test_df']\n"
      ]
     },
     "execution_count": 14,
     "metadata": {},
     "output_type": "execute_result"
    }
   ],
   "source": [
    "(student.register_answer(2, 'test-z').\n",
    " register_answer(3, 'text-x')\n",
    ")"
   ]
  },
  {
   "cell_type": "code",
   "execution_count": 15,
   "metadata": {},
   "outputs": [
    {
     "name": "stdout",
     "output_type": "stream",
     "text": [
      "2\n",
      "\n",
      "\n",
      "\n"
     ]
    }
   ],
   "source": [
    "student.evaluate()"
   ]
  },
  {
   "cell_type": "code",
   "execution_count": null,
   "metadata": {},
   "outputs": [],
   "source": []
  }
 ],
 "metadata": {
  "kernelspec": {
   "display_name": "Python 3 (ipykernel)",
   "language": "python",
   "name": "python3"
  },
  "language_info": {
   "codemirror_mode": {
    "name": "ipython",
    "version": 3
   },
   "file_extension": ".py",
   "mimetype": "text/x-python",
   "name": "python",
   "nbconvert_exporter": "python",
   "pygments_lexer": "ipython3",
   "version": "3.11.8"
  }
 },
 "nbformat": 4,
 "nbformat_minor": 4
}
